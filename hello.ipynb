{
 "cells": [
  {
   "cell_type": "code",
   "execution_count": 18,
   "id": "bb98c9a1-370d-4db8-ab22-738c8fd34561",
   "metadata": {},
   "outputs": [
    {
     "data": {
      "text/plain": [
       "'\\nPrograma hello\\nDescrição: imprima na tela a frase ”Hello, World!”.\\nAutor: Nelson S. dos Santos\\nData: 25/02/2025\\nVersão: 0.0.4\\nNovidades da versão:\\n\\n25/02/2025\\nNesta versão:\\n1. Nesta versão, o usuário poderá entrar com seu nome para ser cumprimentado pelo programa.\\n2. Utilizamos f-strings para escrever um código mais limpo.\\n'"
      ]
     },
     "execution_count": 18,
     "metadata": {},
     "output_type": "execute_result"
    }
   ],
   "source": [
    "\"\"\"\n",
    "Programa hello\n",
    "Descrição: imprima na tela a frase ”Hello, World!”.\n",
    "Autor: Nelson S. dos Santos\n",
    "Data: 25/02/2025\n",
    "Versão: 0.0.4\n",
    "Novidades da versão:\n",
    "\n",
    "25/02/2025\n",
    "Nesta versão:\n",
    "1. Nesta versão, o usuário poderá entrar com seu nome para ser cumprimentado pelo programa.\n",
    "2. Utilizamos f-strings para escrever um código mais limpo.\n",
    "\"\"\""
   ]
  },
  {
   "cell_type": "code",
   "execution_count": 22,
   "id": "6864ce82-65cd-4e7e-944e-8151d9905e0c",
   "metadata": {},
   "outputs": [],
   "source": [
    "# Alocação de memória\n",
    "nome_usuario = \"\"\n",
    "frase = \"\""
   ]
  },
  {
   "cell_type": "code",
   "execution_count": 23,
   "id": "efc26fb6-24c8-4529-8e01-3daa698c1d11",
   "metadata": {},
   "outputs": [
    {
     "name": "stdin",
     "output_type": "stream",
     "text": [
      "\n",
      "Qual o seu nome:  Nelson\n"
     ]
    }
   ],
   "source": [
    "# Entrada de dados\n",
    "\n",
    "nome_usuario = input(\"\\nQual o seu nome: \")"
   ]
  },
  {
   "cell_type": "code",
   "execution_count": 24,
   "id": "09ad39e7-0f92-468f-a4a5-e40fcecb80c9",
   "metadata": {},
   "outputs": [],
   "source": [
    "# Processamento de dados\n",
    "\n",
    "frase = f\"Hello, {nome_usuario}\""
   ]
  },
  {
   "cell_type": "code",
   "execution_count": 25,
   "id": "49342b28-9edb-484c-841f-4367f0eedf16",
   "metadata": {},
   "outputs": [
    {
     "name": "stdout",
     "output_type": "stream",
     "text": [
      "Hello, Nelson\n"
     ]
    }
   ],
   "source": [
    "# Saída de dados\n",
    "\n",
    "\n",
    "print(frase)"
   ]
  },
  {
   "cell_type": "code",
   "execution_count": null,
   "id": "98e9622a-4984-45ff-bffc-837fa57f3b3a",
   "metadata": {},
   "outputs": [],
   "source": []
  }
 ],
 "metadata": {
  "kernelspec": {
   "display_name": "Python 3 (ipykernel)",
   "language": "python",
   "name": "python3"
  },
  "language_info": {
   "codemirror_mode": {
    "name": "ipython",
    "version": 3
   },
   "file_extension": ".py",
   "mimetype": "text/x-python",
   "name": "python",
   "nbconvert_exporter": "python",
   "pygments_lexer": "ipython3",
   "version": "3.11.5"
  }
 },
 "nbformat": 4,
 "nbformat_minor": 5
}
